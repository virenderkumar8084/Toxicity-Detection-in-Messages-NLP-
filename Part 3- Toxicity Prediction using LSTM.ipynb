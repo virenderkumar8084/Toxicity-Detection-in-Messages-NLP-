{
  "cells": [
    {
      "cell_type": "markdown",
      "metadata": {
        "id": "J8mO0mT0jEl2"
      },
      "source": [
        "## Importing Libraries:"
      ]
    },
    {
      "cell_type": "code",
      "execution_count": null,
      "metadata": {
        "id": "WCeNoUtnjEl3",
        "outputId": "0ddb3ddd-3fa4-41fc-e133-0c28bbd533b1"
      },
      "outputs": [
        {
          "name": "stderr",
          "output_type": "stream",
          "text": [
            "Using TensorFlow backend.\n"
          ]
        },
        {
          "data": {
            "text/plain": [
              "['/job:localhost/replica:0/task:0/device:GPU:0']"
            ]
          },
          "execution_count": 1,
          "metadata": {},
          "output_type": "execute_result"
        }
      ],
      "source": [
        "import numpy as np\n",
        "import pandas as pd\n",
        "from sklearn.model_selection import train_test_split\n",
        "from sklearn.metrics import mean_squared_error\n",
        "import tensorflow as tf\n",
        "import keras\n",
        "from keras.callbacks import ModelCheckpoint\n",
        "from keras.models import Sequential\n",
        "from keras.layers import Dense\n",
        "from keras.layers import LSTM\n",
        "from keras.layers import CuDNNLSTM\n",
        "from keras.layers import Dropout\n",
        "from keras.layers.embeddings import Embedding\n",
        "import warnings\n",
        "from keras import backend as K\n",
        "warnings.filterwarnings(\"ignore\")\n",
        "K.tensorflow_backend._get_available_gpus()"
      ]
    },
    {
      "cell_type": "markdown",
      "source": [
        "# Loading the data"
      ],
      "metadata": {
        "id": "cTGL8oT67G0i"
      }
    },
    {
      "cell_type": "code",
      "source": [
        "train_df=pd.read_pickle('train_df.pkl')\n",
        "test_df=pd.read_pickle('test_df.pkl')"
      ],
      "metadata": {
        "id": "bNO8jIyIpEY9"
      },
      "execution_count": null,
      "outputs": []
    },
    {
      "cell_type": "markdown",
      "source": [
        "# Tokenizing the word sequences"
      ],
      "metadata": {
        "id": "u2JSi4wd7LPr"
      }
    },
    {
      "cell_type": "code",
      "source": [
        "MAX_WORDS = 30000\n",
        "MAX_SEQUENCE_LENGTH = 350\n",
        "\n",
        "# Tokenize the text\n",
        "tokenizer = Tokenizer()\n",
        "tokenizer.fit_on_texts(train_df['comment_text'])\n",
        "sequences = tokenizer.texts_to_sequences(train_df['comment_text'])"
      ],
      "metadata": {
        "id": "fWaEE8parzgK"
      },
      "execution_count": null,
      "outputs": []
    },
    {
      "cell_type": "code",
      "source": [
        "# Padding the sequences since the vectors formed are of uneven size and LSTM cells need vectors of same size.\n",
        "data = pad_sequences(sequences, maxlen=350)\n",
        "labels = train_df['target'].values"
      ],
      "metadata": {
        "id": "ul_SSn5br34v"
      },
      "execution_count": null,
      "outputs": []
    },
    {
      "cell_type": "code",
      "source": [
        "feature = train_df[['preprocessed_text']]\n",
        "output = train_df[['target']]\n",
        "X_train, X_cv, y_train, y_cv = train_test_split(feature, output)"
      ],
      "metadata": {
        "id": "Gy21wyXjpO4r"
      },
      "execution_count": null,
      "outputs": []
    },
    {
      "cell_type": "markdown",
      "source": [
        "# Creating the LSTM Model"
      ],
      "metadata": {
        "id": "C1ANkH0L7QS_"
      }
    },
    {
      "cell_type": "code",
      "execution_count": null,
      "metadata": {
        "id": "r54IwLKWjEmF",
        "outputId": "85930b96-ac18-46a6-ec28-55cbbaf17530"
      },
      "outputs": [
        {
          "name": "stdout",
          "output_type": "stream",
          "text": [
            "_________________________________________________________________\n",
            "Layer (type)                 Output Shape              Param #   \n",
            "=================================================================\n",
            "embedding_2 (Embedding)      (None, 350, 100)          20121100  \n",
            "_________________________________________________________________\n",
            "cu_dnnlstm_3 (CuDNNLSTM)     (None, 350, 128)          117760    \n",
            "_________________________________________________________________\n",
            "cu_dnnlstm_4 (CuDNNLSTM)     (None, 128)               132096    \n",
            "_________________________________________________________________\n",
            "dense_2 (Dense)              (None, 1)                 129       \n",
            "=================================================================\n",
            "Total params: 20,371,085\n",
            "Trainable params: 20,371,085\n",
            "Non-trainable params: 0\n",
            "_________________________________________________________________\n",
            "None\n"
          ]
        }
      ],
      "source": [
        "embedding_vecor_length = 100\n",
        "model = Sequential()\n",
        "model.add(Embedding(MAX_WORDS, embedding_vecor_length, input_length=350))\n",
        "model.add(LSTM(128, return_sequences=True))\n",
        "model.add(LSTM(128))\n",
        "model.add(Dense(1, activation='sigmoid'))\n",
        "model.compile(loss='mean_squared_error', optimizer='rmsprop', metrics=['mse'])\n",
        "print(model.summary())"
      ]
    },
    {
      "cell_type": "code",
      "source": [
        "filepath=\"weights-improvement-{epoch:02d}-{val_loss:.2f}.hdf5\"\n",
        "checkpoint = ModelCheckpoint(filepath, monitor='val_loss', verbose=1, save_best_only=True, mode='max')\n",
        "callbacks_list = [checkpoint]"
      ],
      "metadata": {
        "id": "u4--eU9wsoLI"
      },
      "execution_count": null,
      "outputs": []
    },
    {
      "cell_type": "code",
      "execution_count": null,
      "metadata": {
        "id": "sUkwzJZfjEmF",
        "outputId": "9efd4ad0-fc0d-403b-a13f-26030855b50a"
      },
      "outputs": [
        {
          "name": "stdout",
          "output_type": "stream",
          "text": [
            "Train on 1353655 samples, validate on 451219 samples\n",
            "Epoch 1/5\n",
            "1353655/1353655 [==============================] - 453s 334us/step - loss: 0.0204 - mean_squared_error: 0.0204 - val_loss: 0.0161 - val_mean_squared_error: 0.0161\n",
            "\n",
            "Epoch 00001: val_loss improved from -inf to 0.01615, saving model to weights-improvement-01-0.02.hdf5\n",
            "Epoch 2/5\n",
            "1353655/1353655 [==============================] - 440s 325us/step - loss: 0.0157 - mean_squared_error: 0.0157 - val_loss: 0.0162 - val_mean_squared_error: 0.0162\n",
            "\n",
            "Epoch 00002: val_loss improved from 0.01615 to 0.01616, saving model to weights-improvement-02-0.02.hdf5\n",
            "Epoch 3/5\n",
            "1353655/1353655 [==============================] - 439s 325us/step - loss: 0.0152 - mean_squared_error: 0.0152 - val_loss: 0.0158 - val_mean_squared_error: 0.0158\n",
            "\n",
            "Epoch 00003: val_loss did not improve from 0.01616\n",
            "Epoch 4/5\n",
            "1353655/1353655 [==============================] - 455s 336us/step - loss: 0.0148 - mean_squared_error: 0.0148 - val_loss: 0.0157 - val_mean_squared_error: 0.0157\n",
            "\n",
            "Epoch 00004: val_loss did not improve from 0.01616\n",
            "Epoch 5/5\n",
            "1353655/1353655 [==============================] - 446s 330us/step - loss: 0.0144 - mean_squared_error: 0.0144 - val_loss: 0.0160 - val_mean_squared_error: 0.0160\n",
            "\n",
            "Epoch 00005: val_loss did not improve from 0.01616\n"
          ]
        }
      ],
      "source": [
        "history = model.fit(X_train, y_train, nb_epoch=5,\n",
        "                    batch_size=2048, validation_data=(X_cv, y_cv), verbose = 1, callbacks=callbacks_list)"
      ]
    },
    {
      "cell_type": "code",
      "execution_count": null,
      "metadata": {
        "id": "M1J-fBMkjEmF",
        "outputId": "e5f0f055-b9bc-4cf1-900b-3c74cb26e154"
      },
      "outputs": [
        {
          "data": {
            "text/plain": [
              "Text(0.5, 1.0, 'Loss Curves')"
            ]
          },
          "execution_count": 14,
          "metadata": {},
          "output_type": "execute_result"
        },
        {
          "data": {
            "image/png": "[encoded data removed]",
            "text/plain": [
              "<Figure size 576x432 with 1 Axes>"
            ]
          },
          "metadata": {},
          "output_type": "display_data"
        }
      ],
      "source": [
        " # Loss Curves\n",
        "plt.figure(figsize=[8,6])\n",
        "plt.plot(history.history['loss'],'r',linewidth=3.0)\n",
        "plt.plot(history.history['val_loss'],'b',linewidth=3.0)\n",
        "plt.legend(['Training loss', 'Validation Loss'],fontsize=18)\n",
        "plt.xlabel('Epochs ',fontsize=16)\n",
        "plt.ylabel('Loss',fontsize=16)\n",
        "plt.title('Loss Curves',fontsize=16)"
      ]
    },
    {
      "cell_type": "markdown",
      "metadata": {
        "id": "vxlXt8irjEmF"
      },
      "source": [
        "# Outcomes of LSTM Model:\n",
        "\n",
        "- LSTM Model : Mean Squared Error on CV set: 0.0157\n",
        "  \n",
        "\n",
        "\n",
        "\n",
        "\n",
        "    "
      ]
    },
    {
      "cell_type": "code",
      "execution_count": null,
      "metadata": {
        "id": "8OurDsLwjEmG"
      },
      "outputs": [],
      "source": []
    }
  ],
  "metadata": {
    "kernelspec": {
      "display_name": "Python 3",
      "language": "python",
      "name": "python3"
    },
    "language_info": {
      "codemirror_mode": {
        "name": "ipython",
        "version": 3
      },
      "file_extension": ".py",
      "mimetype": "text/x-python",
      "name": "python",
      "nbconvert_exporter": "python",
      "pygments_lexer": "ipython3",
      "version": "3.6.7"
    },
    "colab": {
      "provenance": []
    }
  },
  "nbformat": 4,
  "nbformat_minor": 0
}
