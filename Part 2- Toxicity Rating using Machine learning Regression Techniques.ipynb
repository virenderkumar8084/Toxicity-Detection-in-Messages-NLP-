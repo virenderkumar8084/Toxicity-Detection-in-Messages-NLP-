{
 "cells": [
  {
   "cell_type": "markdown",
   "id": "90d405d6-8c56-42ff-8d9c-d37a75c04af5",
   "metadata": {},
   "source": [
    "# Importing dependencies and data"
   ]
  },
  {
   "cell_type": "code",
   "execution_count": 1,
   "id": "fb2f1cb3-aac3-4e17-a4f8-a12f7cee7f2a",
   "metadata": {},
   "outputs": [],
   "source": [
    "import numpy as np\n",
    "import pandas as pd\n",
    "import matplotlib.pyplot as plt\n",
    "import seaborn as sns\n",
    "from wordcloud import WordCloud, STOPWORDS\n",
    "import re\n",
    "import nltk\n",
    "from nltk.corpus import stopwords\n",
    "from nltk.stem import SnowballStemmer, PorterStemmer\n",
    "import spacy\n",
    "from spacy.lang.en.stop_words import STOP_WORDS\n",
    "from tqdm import tqdm\n",
    "from sklearn.feature_extraction.text import CountVectorizer,TfidfVectorizer\n",
    "from sklearn.model_selection import train_test_split\n",
    "from sklearn.model_selection import GridSearchCV\n",
    "from sklearn.linear_model import SGDRegressor\n",
    "from sklearn.tree import DecisionTreeRegressor\n",
    "from sklearn.metrics import mean_squared_error\n",
    "from scipy import sparse\n",
    "from scipy.sparse import hstack,csr_matrix\n",
    "import math"
   ]
  },
  {
   "cell_type": "code",
   "execution_count": 3,
   "id": "5c52b3da-95c6-44c1-ac94-e611e8e8c82d",
   "metadata": {},
   "outputs": [],
   "source": [
    "#importing the datasets\n",
    "train_df=pd.read_csv('train.csv')\n",
    "test_df=pd.read_csv('test.csv')"
   ]
  },
  {
   "cell_type": "markdown",
   "id": "5b32c12a-025f-4813-9e74-39bde71fd28e",
   "metadata": {},
   "source": [
    "# Preprocessing and feature engineering\n"
   ]
  },
  {
   "cell_type": "code",
   "execution_count": 4,
   "id": "d10fa3b3-0b1f-4565-ac28-6cae2c608342",
   "metadata": {},
   "outputs": [
    {
     "name": "stdout",
     "output_type": "stream",
     "text": [
      "<class 'pandas.core.frame.DataFrame'>\n",
      "RangeIndex: 1804874 entries, 0 to 1804873\n",
      "Data columns (total 45 columns):\n",
      " #   Column                               Dtype  \n",
      "---  ------                               -----  \n",
      " 0   id                                   int64  \n",
      " 1   target                               float64\n",
      " 2   comment_text                         object \n",
      " 3   severe_toxicity                      float64\n",
      " 4   obscene                              float64\n",
      " 5   identity_attack                      float64\n",
      " 6   insult                               float64\n",
      " 7   threat                               float64\n",
      " 8   asian                                float64\n",
      " 9   atheist                              float64\n",
      " 10  bisexual                             float64\n",
      " 11  black                                float64\n",
      " 12  buddhist                             float64\n",
      " 13  christian                            float64\n",
      " 14  female                               float64\n",
      " 15  heterosexual                         float64\n",
      " 16  hindu                                float64\n",
      " 17  homosexual_gay_or_lesbian            float64\n",
      " 18  intellectual_or_learning_disability  float64\n",
      " 19  jewish                               float64\n",
      " 20  latino                               float64\n",
      " 21  male                                 float64\n",
      " 22  muslim                               float64\n",
      " 23  other_disability                     float64\n",
      " 24  other_gender                         float64\n",
      " 25  other_race_or_ethnicity              float64\n",
      " 26  other_religion                       float64\n",
      " 27  other_sexual_orientation             float64\n",
      " 28  physical_disability                  float64\n",
      " 29  psychiatric_or_mental_illness        float64\n",
      " 30  transgender                          float64\n",
      " 31  white                                float64\n",
      " 32  created_date                         object \n",
      " 33  publication_id                       int64  \n",
      " 34  parent_id                            float64\n",
      " 35  article_id                           int64  \n",
      " 36  rating                               object \n",
      " 37  funny                                int64  \n",
      " 38  wow                                  int64  \n",
      " 39  sad                                  int64  \n",
      " 40  likes                                int64  \n",
      " 41  disagree                             int64  \n",
      " 42  sexual_explicit                      float64\n",
      " 43  identity_annotator_count             int64  \n",
      " 44  toxicity_annotator_count             int64  \n",
      "dtypes: float64(32), int64(10), object(3)\n",
      "memory usage: 619.7+ MB\n"
     ]
    }
   ],
   "source": [
    "train_df.info()"
   ]
  },
  {
   "cell_type": "markdown",
   "id": "661ec9f6-10f6-497a-ab03-d2bf326f1447",
   "metadata": {},
   "source": [
    "- Handling missing values:"
   ]
  },
  {
   "cell_type": "code",
   "execution_count": 5,
   "id": "d69bc6da-a73b-4e77-aec7-17881c243f79",
   "metadata": {},
   "outputs": [
    {
     "name": "stdout",
     "output_type": "stream",
     "text": [
      "id                                           0\n",
      "target                                       0\n",
      "comment_text                                 3\n",
      "severe_toxicity                              0\n",
      "obscene                                      0\n",
      "identity_attack                              0\n",
      "insult                                       0\n",
      "threat                                       0\n",
      "asian                                  1399744\n",
      "atheist                                1399744\n",
      "bisexual                               1399744\n",
      "black                                  1399744\n",
      "buddhist                               1399744\n",
      "christian                              1399744\n",
      "female                                 1399744\n",
      "heterosexual                           1399744\n",
      "hindu                                  1399744\n",
      "homosexual_gay_or_lesbian              1399744\n",
      "intellectual_or_learning_disability    1399744\n",
      "jewish                                 1399744\n",
      "latino                                 1399744\n",
      "male                                   1399744\n",
      "muslim                                 1399744\n",
      "other_disability                       1399744\n",
      "other_gender                           1399744\n",
      "other_race_or_ethnicity                1399744\n",
      "other_religion                         1399744\n",
      "other_sexual_orientation               1399744\n",
      "physical_disability                    1399744\n",
      "psychiatric_or_mental_illness          1399744\n",
      "transgender                            1399744\n",
      "white                                  1399744\n",
      "created_date                                 0\n",
      "publication_id                               0\n",
      "parent_id                               778646\n",
      "article_id                                   0\n",
      "rating                                       0\n",
      "funny                                        0\n",
      "wow                                          0\n",
      "sad                                          0\n",
      "likes                                        0\n",
      "disagree                                     0\n",
      "sexual_explicit                              0\n",
      "identity_annotator_count                     0\n",
      "toxicity_annotator_count                     0\n",
      "dtype: int64\n"
     ]
    }
   ],
   "source": [
    "missing_values=train_df.isnull().sum()\n",
    "print(missing_values)"
   ]
  },
  {
   "cell_type": "code",
   "execution_count": 6,
   "id": "a04d9302-e915-471f-ab75-1f19588332c2",
   "metadata": {},
   "outputs": [],
   "source": [
    "#removing rows that have the text missing\n",
    "train_df.dropna(subset=['comment_text'], inplace=True)"
   ]
  },
  {
   "cell_type": "code",
   "execution_count": 7,
   "id": "994d6a16-5f55-41cb-a1de-a21ed48d6d31",
   "metadata": {},
   "outputs": [],
   "source": [
    "def feature_engineering(df):\n",
    "    df['length'] = df.comment_text.apply(lambda x: len(x))    #adding a length column ( length of a comment in characters)\n",
    "    train_df['num_exclamations'] = train_df['comment_text'].apply(lambda x: x.count('!'))  #number of exclamations as it was found to be more in toxic comments in EDA\n",
    "    return df\n",
    "    "
   ]
  },
  {
   "cell_type": "code",
   "execution_count": 8,
   "id": "3e79c916-4e78-4120-bff3-5f4bbda2ea31",
   "metadata": {},
   "outputs": [],
   "source": [
    "train_df=feature_engineering(train_df)\n",
    "test_df=feature_engineering(test_df)"
   ]
  },
  {
   "cell_type": "code",
   "execution_count": 26,
   "id": "37e968a0-1863-4689-b7eb-7d510db83e7b",
   "metadata": {},
   "outputs": [],
   "source": [
    "test_df['num_exclamations'] = test_df['comment_text'].apply(lambda x: x.count('!'))"
   ]
  },
  {
   "cell_type": "code",
   "execution_count": 9,
   "id": "af199bdb-f369-4a90-a5d9-d950be14b47b",
   "metadata": {},
   "outputs": [
    {
     "data": {
      "text/html": [
       "<div>\n",
       "<style scoped>\n",
       "    .dataframe tbody tr th:only-of-type {\n",
       "        vertical-align: middle;\n",
       "    }\n",
       "\n",
       "    .dataframe tbody tr th {\n",
       "        vertical-align: top;\n",
       "    }\n",
       "\n",
       "    .dataframe thead th {\n",
       "        text-align: right;\n",
       "    }\n",
       "</style>\n",
       "<table border=\"1\" class=\"dataframe\">\n",
       "  <thead>\n",
       "    <tr style=\"text-align: right;\">\n",
       "      <th></th>\n",
       "      <th>id</th>\n",
       "      <th>target</th>\n",
       "      <th>comment_text</th>\n",
       "      <th>severe_toxicity</th>\n",
       "      <th>obscene</th>\n",
       "      <th>identity_attack</th>\n",
       "      <th>insult</th>\n",
       "      <th>threat</th>\n",
       "      <th>asian</th>\n",
       "      <th>atheist</th>\n",
       "      <th>...</th>\n",
       "      <th>funny</th>\n",
       "      <th>wow</th>\n",
       "      <th>sad</th>\n",
       "      <th>likes</th>\n",
       "      <th>disagree</th>\n",
       "      <th>sexual_explicit</th>\n",
       "      <th>identity_annotator_count</th>\n",
       "      <th>toxicity_annotator_count</th>\n",
       "      <th>length</th>\n",
       "      <th>num_exclamations</th>\n",
       "    </tr>\n",
       "  </thead>\n",
       "  <tbody>\n",
       "    <tr>\n",
       "      <th>0</th>\n",
       "      <td>59848</td>\n",
       "      <td>0.0</td>\n",
       "      <td>This is so cool. It's like, 'would you want yo...</td>\n",
       "      <td>0.0</td>\n",
       "      <td>0.0</td>\n",
       "      <td>0.0</td>\n",
       "      <td>0.0</td>\n",
       "      <td>0.0</td>\n",
       "      <td>NaN</td>\n",
       "      <td>NaN</td>\n",
       "      <td>...</td>\n",
       "      <td>0</td>\n",
       "      <td>0</td>\n",
       "      <td>0</td>\n",
       "      <td>0</td>\n",
       "      <td>0</td>\n",
       "      <td>0.0</td>\n",
       "      <td>0</td>\n",
       "      <td>4</td>\n",
       "      <td>101</td>\n",
       "      <td>1</td>\n",
       "    </tr>\n",
       "  </tbody>\n",
       "</table>\n",
       "<p>1 rows × 47 columns</p>\n",
       "</div>"
      ],
      "text/plain": [
       "      id  target                                       comment_text  \\\n",
       "0  59848     0.0  This is so cool. It's like, 'would you want yo...   \n",
       "\n",
       "   severe_toxicity  obscene  identity_attack  insult  threat  asian  atheist  \\\n",
       "0              0.0      0.0              0.0     0.0     0.0    NaN      NaN   \n",
       "\n",
       "   ...  funny  wow  sad  likes  disagree  sexual_explicit  \\\n",
       "0  ...      0    0    0      0         0              0.0   \n",
       "\n",
       "   identity_annotator_count  toxicity_annotator_count  length  \\\n",
       "0                         0                         4     101   \n",
       "\n",
       "   num_exclamations  \n",
       "0                 1  \n",
       "\n",
       "[1 rows x 47 columns]"
      ]
     },
     "execution_count": 9,
     "metadata": {},
     "output_type": "execute_result"
    }
   ],
   "source": [
    "train_df.head(1)"
   ]
  },
  {
   "cell_type": "code",
   "execution_count": 27,
   "id": "90f12ea3-e76a-4dcd-8292-75f84e0840a5",
   "metadata": {},
   "outputs": [
    {
     "data": {
      "text/html": [
       "<div>\n",
       "<style scoped>\n",
       "    .dataframe tbody tr th:only-of-type {\n",
       "        vertical-align: middle;\n",
       "    }\n",
       "\n",
       "    .dataframe tbody tr th {\n",
       "        vertical-align: top;\n",
       "    }\n",
       "\n",
       "    .dataframe thead th {\n",
       "        text-align: right;\n",
       "    }\n",
       "</style>\n",
       "<table border=\"1\" class=\"dataframe\">\n",
       "  <thead>\n",
       "    <tr style=\"text-align: right;\">\n",
       "      <th></th>\n",
       "      <th>id</th>\n",
       "      <th>comment_text</th>\n",
       "      <th>length</th>\n",
       "      <th>num_exclamations</th>\n",
       "    </tr>\n",
       "  </thead>\n",
       "  <tbody>\n",
       "    <tr>\n",
       "      <th>0</th>\n",
       "      <td>7097320</td>\n",
       "      <td>[ Integrity means that you pay your debts.]\\n\\...</td>\n",
       "      <td>84</td>\n",
       "      <td>0</td>\n",
       "    </tr>\n",
       "    <tr>\n",
       "      <th>1</th>\n",
       "      <td>7097321</td>\n",
       "      <td>This is malfeasance by the Administrator and t...</td>\n",
       "      <td>84</td>\n",
       "      <td>1</td>\n",
       "    </tr>\n",
       "    <tr>\n",
       "      <th>2</th>\n",
       "      <td>7097322</td>\n",
       "      <td>@Rmiller101 - Spoken like a true elitist. But ...</td>\n",
       "      <td>198</td>\n",
       "      <td>0</td>\n",
       "    </tr>\n",
       "    <tr>\n",
       "      <th>3</th>\n",
       "      <td>7097323</td>\n",
       "      <td>Paul: Thank you for your kind words.  I do, in...</td>\n",
       "      <td>993</td>\n",
       "      <td>0</td>\n",
       "    </tr>\n",
       "    <tr>\n",
       "      <th>4</th>\n",
       "      <td>7097324</td>\n",
       "      <td>Sorry you missed high school. Eisenhower sent ...</td>\n",
       "      <td>345</td>\n",
       "      <td>0</td>\n",
       "    </tr>\n",
       "  </tbody>\n",
       "</table>\n",
       "</div>"
      ],
      "text/plain": [
       "        id                                       comment_text  length  \\\n",
       "0  7097320  [ Integrity means that you pay your debts.]\\n\\...      84   \n",
       "1  7097321  This is malfeasance by the Administrator and t...      84   \n",
       "2  7097322  @Rmiller101 - Spoken like a true elitist. But ...     198   \n",
       "3  7097323  Paul: Thank you for your kind words.  I do, in...     993   \n",
       "4  7097324  Sorry you missed high school. Eisenhower sent ...     345   \n",
       "\n",
       "   num_exclamations  \n",
       "0                 0  \n",
       "1                 1  \n",
       "2                 0  \n",
       "3                 0  \n",
       "4                 0  "
      ]
     },
     "execution_count": 27,
     "metadata": {},
     "output_type": "execute_result"
    }
   ],
   "source": [
    "test_df.head()"
   ]
  },
  {
   "cell_type": "markdown",
   "id": "5493f459-cc9e-4b85-b753-43f14177a878",
   "metadata": {},
   "source": [
    "# Text preprocessing"
   ]
  },
  {
   "cell_type": "code",
   "execution_count": 10,
   "id": "41a01d99-5a69-47ee-bb8a-60b76a3c11af",
   "metadata": {},
   "outputs": [],
   "source": [
    "nlp = spacy.load(\"en_core_web_sm\")  #spacy's pipeline for english language, using it for lemmatization"
   ]
  },
  {
   "cell_type": "markdown",
   "id": "df42f223-2d42-4d1b-89c5-5f6dc1560398",
   "metadata": {},
   "source": [
    "- Lemmatization and stopwords removal"
   ]
  },
  {
   "cell_type": "code",
   "execution_count": 11,
   "id": "86d688e9-5041-4783-aaf8-72f99cd2e789",
   "metadata": {},
   "outputs": [],
   "source": [
    "def preprocess(text_string):\n",
    "    text_string = text_string.lower()\n",
    "    text_string = re.sub(r'[^A-Za-z0-9]+', ' ', text_string) #Remove special characters and punctuations\n",
    "    doc = nlp(text_string)\n",
    "    new_text = []\n",
    "    for token in doc:\n",
    "        if token.text.lower() not in STOP_WORDS:\n",
    "            new_text.append(token.lemma_)\n",
    "    text_string = ' '.join(new_text)\n",
    "    return text_string"
   ]
  },
  {
   "cell_type": "code",
   "execution_count": 12,
   "id": "2ce032e5-a63c-4db3-a0b2-eb484b9ed548",
   "metadata": {},
   "outputs": [
    {
     "name": "stderr",
     "output_type": "stream",
     "text": [
      "100%|█████████████████████████████████████████████████████████████████████| 1804871/1804871 [4:30:45<00:00, 111.10it/s]\n"
     ]
    }
   ],
   "source": [
    "tqdm.pandas()\n",
    "train_df['preprocessed_text'] = train_df['comment_text'].progress_apply(preprocess)"
   ]
  },
  {
   "cell_type": "code",
   "execution_count": 28,
   "id": "be546594-3fe3-4ee7-bc7d-8133d1a5a534",
   "metadata": {},
   "outputs": [
    {
     "name": "stderr",
     "output_type": "stream",
     "text": [
      "100%|███████████████████████████████████████████████████████████████████████████| 97320/97320 [13:45<00:00, 117.85it/s]\n"
     ]
    }
   ],
   "source": [
    "tqdm.pandas()\n",
    "test_df['preprocessed_text'] = test_df['comment_text'].progress_apply(preprocess)"
   ]
  },
  {
   "cell_type": "code",
   "execution_count": 14,
   "id": "e3331f9a-cc79-4015-8d04-26df67e4060a",
   "metadata": {},
   "outputs": [
    {
     "data": {
      "text/html": [
       "<div>\n",
       "<style scoped>\n",
       "    .dataframe tbody tr th:only-of-type {\n",
       "        vertical-align: middle;\n",
       "    }\n",
       "\n",
       "    .dataframe tbody tr th {\n",
       "        vertical-align: top;\n",
       "    }\n",
       "\n",
       "    .dataframe thead th {\n",
       "        text-align: right;\n",
       "    }\n",
       "</style>\n",
       "<table border=\"1\" class=\"dataframe\">\n",
       "  <thead>\n",
       "    <tr style=\"text-align: right;\">\n",
       "      <th></th>\n",
       "      <th>id</th>\n",
       "      <th>target</th>\n",
       "      <th>comment_text</th>\n",
       "      <th>severe_toxicity</th>\n",
       "      <th>obscene</th>\n",
       "      <th>identity_attack</th>\n",
       "      <th>insult</th>\n",
       "      <th>threat</th>\n",
       "      <th>asian</th>\n",
       "      <th>atheist</th>\n",
       "      <th>...</th>\n",
       "      <th>wow</th>\n",
       "      <th>sad</th>\n",
       "      <th>likes</th>\n",
       "      <th>disagree</th>\n",
       "      <th>sexual_explicit</th>\n",
       "      <th>identity_annotator_count</th>\n",
       "      <th>toxicity_annotator_count</th>\n",
       "      <th>length</th>\n",
       "      <th>num_exclamations</th>\n",
       "      <th>preprocessed_text</th>\n",
       "    </tr>\n",
       "  </thead>\n",
       "  <tbody>\n",
       "    <tr>\n",
       "      <th>0</th>\n",
       "      <td>59848</td>\n",
       "      <td>0.000000</td>\n",
       "      <td>This is so cool. It's like, 'would you want yo...</td>\n",
       "      <td>0.000000</td>\n",
       "      <td>0.0</td>\n",
       "      <td>0.000000</td>\n",
       "      <td>0.00000</td>\n",
       "      <td>0.0</td>\n",
       "      <td>NaN</td>\n",
       "      <td>NaN</td>\n",
       "      <td>...</td>\n",
       "      <td>0</td>\n",
       "      <td>0</td>\n",
       "      <td>0</td>\n",
       "      <td>0</td>\n",
       "      <td>0.0</td>\n",
       "      <td>0</td>\n",
       "      <td>4</td>\n",
       "      <td>101</td>\n",
       "      <td>1</td>\n",
       "      <td>cool s like want mother read great idea</td>\n",
       "    </tr>\n",
       "    <tr>\n",
       "      <th>1</th>\n",
       "      <td>59849</td>\n",
       "      <td>0.000000</td>\n",
       "      <td>Thank you!! This would make my life a lot less...</td>\n",
       "      <td>0.000000</td>\n",
       "      <td>0.0</td>\n",
       "      <td>0.000000</td>\n",
       "      <td>0.00000</td>\n",
       "      <td>0.0</td>\n",
       "      <td>NaN</td>\n",
       "      <td>NaN</td>\n",
       "      <td>...</td>\n",
       "      <td>0</td>\n",
       "      <td>0</td>\n",
       "      <td>0</td>\n",
       "      <td>0</td>\n",
       "      <td>0.0</td>\n",
       "      <td>0</td>\n",
       "      <td>4</td>\n",
       "      <td>114</td>\n",
       "      <td>3</td>\n",
       "      <td>thank life lot anxiety induce don t let way</td>\n",
       "    </tr>\n",
       "    <tr>\n",
       "      <th>2</th>\n",
       "      <td>59852</td>\n",
       "      <td>0.000000</td>\n",
       "      <td>This is such an urgent design problem; kudos t...</td>\n",
       "      <td>0.000000</td>\n",
       "      <td>0.0</td>\n",
       "      <td>0.000000</td>\n",
       "      <td>0.00000</td>\n",
       "      <td>0.0</td>\n",
       "      <td>NaN</td>\n",
       "      <td>NaN</td>\n",
       "      <td>...</td>\n",
       "      <td>0</td>\n",
       "      <td>0</td>\n",
       "      <td>0</td>\n",
       "      <td>0</td>\n",
       "      <td>0.0</td>\n",
       "      <td>0</td>\n",
       "      <td>4</td>\n",
       "      <td>86</td>\n",
       "      <td>1</td>\n",
       "      <td>urgent design problem kudo take impressive</td>\n",
       "    </tr>\n",
       "    <tr>\n",
       "      <th>3</th>\n",
       "      <td>59855</td>\n",
       "      <td>0.000000</td>\n",
       "      <td>Is this something I'll be able to install on m...</td>\n",
       "      <td>0.000000</td>\n",
       "      <td>0.0</td>\n",
       "      <td>0.000000</td>\n",
       "      <td>0.00000</td>\n",
       "      <td>0.0</td>\n",
       "      <td>NaN</td>\n",
       "      <td>NaN</td>\n",
       "      <td>...</td>\n",
       "      <td>0</td>\n",
       "      <td>0</td>\n",
       "      <td>0</td>\n",
       "      <td>0</td>\n",
       "      <td>0.0</td>\n",
       "      <td>0</td>\n",
       "      <td>4</td>\n",
       "      <td>84</td>\n",
       "      <td>0</td>\n",
       "      <td>ll able install site release</td>\n",
       "    </tr>\n",
       "    <tr>\n",
       "      <th>4</th>\n",
       "      <td>59856</td>\n",
       "      <td>0.893617</td>\n",
       "      <td>haha you guys are a bunch of losers.</td>\n",
       "      <td>0.021277</td>\n",
       "      <td>0.0</td>\n",
       "      <td>0.021277</td>\n",
       "      <td>0.87234</td>\n",
       "      <td>0.0</td>\n",
       "      <td>0.0</td>\n",
       "      <td>0.0</td>\n",
       "      <td>...</td>\n",
       "      <td>0</td>\n",
       "      <td>0</td>\n",
       "      <td>1</td>\n",
       "      <td>0</td>\n",
       "      <td>0.0</td>\n",
       "      <td>4</td>\n",
       "      <td>47</td>\n",
       "      <td>36</td>\n",
       "      <td>0</td>\n",
       "      <td>haha guy bunch loser</td>\n",
       "    </tr>\n",
       "  </tbody>\n",
       "</table>\n",
       "<p>5 rows × 48 columns</p>\n",
       "</div>"
      ],
      "text/plain": [
       "      id    target                                       comment_text  \\\n",
       "0  59848  0.000000  This is so cool. It's like, 'would you want yo...   \n",
       "1  59849  0.000000  Thank you!! This would make my life a lot less...   \n",
       "2  59852  0.000000  This is such an urgent design problem; kudos t...   \n",
       "3  59855  0.000000  Is this something I'll be able to install on m...   \n",
       "4  59856  0.893617               haha you guys are a bunch of losers.   \n",
       "\n",
       "   severe_toxicity  obscene  identity_attack   insult  threat  asian  atheist  \\\n",
       "0         0.000000      0.0         0.000000  0.00000     0.0    NaN      NaN   \n",
       "1         0.000000      0.0         0.000000  0.00000     0.0    NaN      NaN   \n",
       "2         0.000000      0.0         0.000000  0.00000     0.0    NaN      NaN   \n",
       "3         0.000000      0.0         0.000000  0.00000     0.0    NaN      NaN   \n",
       "4         0.021277      0.0         0.021277  0.87234     0.0    0.0      0.0   \n",
       "\n",
       "   ...  wow  sad  likes  disagree  sexual_explicit  identity_annotator_count  \\\n",
       "0  ...    0    0      0         0              0.0                         0   \n",
       "1  ...    0    0      0         0              0.0                         0   \n",
       "2  ...    0    0      0         0              0.0                         0   \n",
       "3  ...    0    0      0         0              0.0                         0   \n",
       "4  ...    0    0      1         0              0.0                         4   \n",
       "\n",
       "   toxicity_annotator_count  length  num_exclamations  \\\n",
       "0                         4     101                 1   \n",
       "1                         4     114                 3   \n",
       "2                         4      86                 1   \n",
       "3                         4      84                 0   \n",
       "4                        47      36                 0   \n",
       "\n",
       "                             preprocessed_text  \n",
       "0      cool s like want mother read great idea  \n",
       "1  thank life lot anxiety induce don t let way  \n",
       "2   urgent design problem kudo take impressive  \n",
       "3                 ll able install site release  \n",
       "4                         haha guy bunch loser  \n",
       "\n",
       "[5 rows x 48 columns]"
      ]
     },
     "execution_count": 14,
     "metadata": {},
     "output_type": "execute_result"
    }
   ],
   "source": [
    "train_df.head()"
   ]
  },
  {
   "cell_type": "code",
   "execution_count": 29,
   "id": "bcccab50-4579-4510-aa7a-e1e8f8253b16",
   "metadata": {},
   "outputs": [
    {
     "data": {
      "text/html": [
       "<div>\n",
       "<style scoped>\n",
       "    .dataframe tbody tr th:only-of-type {\n",
       "        vertical-align: middle;\n",
       "    }\n",
       "\n",
       "    .dataframe tbody tr th {\n",
       "        vertical-align: top;\n",
       "    }\n",
       "\n",
       "    .dataframe thead th {\n",
       "        text-align: right;\n",
       "    }\n",
       "</style>\n",
       "<table border=\"1\" class=\"dataframe\">\n",
       "  <thead>\n",
       "    <tr style=\"text-align: right;\">\n",
       "      <th></th>\n",
       "      <th>id</th>\n",
       "      <th>comment_text</th>\n",
       "      <th>length</th>\n",
       "      <th>num_exclamations</th>\n",
       "      <th>preprocessed_text</th>\n",
       "    </tr>\n",
       "  </thead>\n",
       "  <tbody>\n",
       "    <tr>\n",
       "      <th>0</th>\n",
       "      <td>7097320</td>\n",
       "      <td>[ Integrity means that you pay your debts.]\\n\\...</td>\n",
       "      <td>84</td>\n",
       "      <td>0</td>\n",
       "      <td>integrity mean pay debt apply president trump</td>\n",
       "    </tr>\n",
       "    <tr>\n",
       "      <th>1</th>\n",
       "      <td>7097321</td>\n",
       "      <td>This is malfeasance by the Administrator and t...</td>\n",
       "      <td>84</td>\n",
       "      <td>1</td>\n",
       "      <td>malfeasance administrator board waste money</td>\n",
       "    </tr>\n",
       "    <tr>\n",
       "      <th>2</th>\n",
       "      <td>7097322</td>\n",
       "      <td>@Rmiller101 - Spoken like a true elitist. But ...</td>\n",
       "      <td>198</td>\n",
       "      <td>0</td>\n",
       "      <td>rmiller101 speak like true elitist look bud ...</td>\n",
       "    </tr>\n",
       "    <tr>\n",
       "      <th>3</th>\n",
       "      <td>7097323</td>\n",
       "      <td>Paul: Thank you for your kind words.  I do, in...</td>\n",
       "      <td>993</td>\n",
       "      <td>0</td>\n",
       "      <td>paul thank kind word strong belief don t hide ...</td>\n",
       "    </tr>\n",
       "    <tr>\n",
       "      <th>4</th>\n",
       "      <td>7097324</td>\n",
       "      <td>Sorry you missed high school. Eisenhower sent ...</td>\n",
       "      <td>345</td>\n",
       "      <td>0</td>\n",
       "      <td>sorry miss high school eisenhower send troop v...</td>\n",
       "    </tr>\n",
       "  </tbody>\n",
       "</table>\n",
       "</div>"
      ],
      "text/plain": [
       "        id                                       comment_text  length  \\\n",
       "0  7097320  [ Integrity means that you pay your debts.]\\n\\...      84   \n",
       "1  7097321  This is malfeasance by the Administrator and t...      84   \n",
       "2  7097322  @Rmiller101 - Spoken like a true elitist. But ...     198   \n",
       "3  7097323  Paul: Thank you for your kind words.  I do, in...     993   \n",
       "4  7097324  Sorry you missed high school. Eisenhower sent ...     345   \n",
       "\n",
       "   num_exclamations                                  preprocessed_text  \n",
       "0                 0      integrity mean pay debt apply president trump  \n",
       "1                 1        malfeasance administrator board waste money  \n",
       "2                 0    rmiller101 speak like true elitist look bud ...  \n",
       "3                 0  paul thank kind word strong belief don t hide ...  \n",
       "4                 0  sorry miss high school eisenhower send troop v...  "
      ]
     },
     "execution_count": 29,
     "metadata": {},
     "output_type": "execute_result"
    }
   ],
   "source": [
    "test_df.head()"
   ]
  },
  {
   "cell_type": "markdown",
   "id": "6cf5e5f0-953e-4a9a-8555-ce2b97f5a9bc",
   "metadata": {},
   "source": [
    "- saving the preprocessed datasets using Pickle"
   ]
  },
  {
   "cell_type": "code",
   "execution_count": 32,
   "id": "20a679a5-a9d6-489d-aef8-69730082e020",
   "metadata": {},
   "outputs": [],
   "source": [
    "train_df.to_pickle('train_df.pkl')\n",
    "test_df.to_pickle('test_df.pkl')"
   ]
  },
  {
   "cell_type": "code",
   "execution_count": 2,
   "id": "72f78729-5ece-4008-9335-a369649e01bb",
   "metadata": {},
   "outputs": [],
   "source": [
    "#read back the files later\n",
    "train_df=pd.read_pickle('train_df.pkl')\n",
    "test_df=pd.read_pickle('test_df.pkl')"
   ]
  },
  {
   "cell_type": "code",
   "execution_count": 3,
   "id": "02d805bd-5d03-4bf5-869a-c914e898dca2",
   "metadata": {},
   "outputs": [
    {
     "data": {
      "text/html": [
       "<div>\n",
       "<style scoped>\n",
       "    .dataframe tbody tr th:only-of-type {\n",
       "        vertical-align: middle;\n",
       "    }\n",
       "\n",
       "    .dataframe tbody tr th {\n",
       "        vertical-align: top;\n",
       "    }\n",
       "\n",
       "    .dataframe thead th {\n",
       "        text-align: right;\n",
       "    }\n",
       "</style>\n",
       "<table border=\"1\" class=\"dataframe\">\n",
       "  <thead>\n",
       "    <tr style=\"text-align: right;\">\n",
       "      <th></th>\n",
       "      <th>id</th>\n",
       "      <th>target</th>\n",
       "      <th>comment_text</th>\n",
       "      <th>severe_toxicity</th>\n",
       "      <th>obscene</th>\n",
       "      <th>identity_attack</th>\n",
       "      <th>insult</th>\n",
       "      <th>threat</th>\n",
       "      <th>asian</th>\n",
       "      <th>atheist</th>\n",
       "      <th>...</th>\n",
       "      <th>wow</th>\n",
       "      <th>sad</th>\n",
       "      <th>likes</th>\n",
       "      <th>disagree</th>\n",
       "      <th>sexual_explicit</th>\n",
       "      <th>identity_annotator_count</th>\n",
       "      <th>toxicity_annotator_count</th>\n",
       "      <th>length</th>\n",
       "      <th>num_exclamations</th>\n",
       "      <th>preprocessed_text</th>\n",
       "    </tr>\n",
       "  </thead>\n",
       "  <tbody>\n",
       "    <tr>\n",
       "      <th>0</th>\n",
       "      <td>59848</td>\n",
       "      <td>0.0</td>\n",
       "      <td>This is so cool. It's like, 'would you want yo...</td>\n",
       "      <td>0.0</td>\n",
       "      <td>0.0</td>\n",
       "      <td>0.0</td>\n",
       "      <td>0.0</td>\n",
       "      <td>0.0</td>\n",
       "      <td>NaN</td>\n",
       "      <td>NaN</td>\n",
       "      <td>...</td>\n",
       "      <td>0</td>\n",
       "      <td>0</td>\n",
       "      <td>0</td>\n",
       "      <td>0</td>\n",
       "      <td>0.0</td>\n",
       "      <td>0</td>\n",
       "      <td>4</td>\n",
       "      <td>101</td>\n",
       "      <td>1</td>\n",
       "      <td>cool s like want mother read great idea</td>\n",
       "    </tr>\n",
       "    <tr>\n",
       "      <th>1</th>\n",
       "      <td>59849</td>\n",
       "      <td>0.0</td>\n",
       "      <td>Thank you!! This would make my life a lot less...</td>\n",
       "      <td>0.0</td>\n",
       "      <td>0.0</td>\n",
       "      <td>0.0</td>\n",
       "      <td>0.0</td>\n",
       "      <td>0.0</td>\n",
       "      <td>NaN</td>\n",
       "      <td>NaN</td>\n",
       "      <td>...</td>\n",
       "      <td>0</td>\n",
       "      <td>0</td>\n",
       "      <td>0</td>\n",
       "      <td>0</td>\n",
       "      <td>0.0</td>\n",
       "      <td>0</td>\n",
       "      <td>4</td>\n",
       "      <td>114</td>\n",
       "      <td>3</td>\n",
       "      <td>thank life lot anxiety induce don t let way</td>\n",
       "    </tr>\n",
       "  </tbody>\n",
       "</table>\n",
       "<p>2 rows × 48 columns</p>\n",
       "</div>"
      ],
      "text/plain": [
       "      id  target                                       comment_text  \\\n",
       "0  59848     0.0  This is so cool. It's like, 'would you want yo...   \n",
       "1  59849     0.0  Thank you!! This would make my life a lot less...   \n",
       "\n",
       "   severe_toxicity  obscene  identity_attack  insult  threat  asian  atheist  \\\n",
       "0              0.0      0.0              0.0     0.0     0.0    NaN      NaN   \n",
       "1              0.0      0.0              0.0     0.0     0.0    NaN      NaN   \n",
       "\n",
       "   ...  wow  sad  likes  disagree  sexual_explicit  identity_annotator_count  \\\n",
       "0  ...    0    0      0         0              0.0                         0   \n",
       "1  ...    0    0      0         0              0.0                         0   \n",
       "\n",
       "   toxicity_annotator_count  length  num_exclamations  \\\n",
       "0                         4     101                 1   \n",
       "1                         4     114                 3   \n",
       "\n",
       "                             preprocessed_text  \n",
       "0      cool s like want mother read great idea  \n",
       "1  thank life lot anxiety induce don t let way  \n",
       "\n",
       "[2 rows x 48 columns]"
      ]
     },
     "execution_count": 3,
     "metadata": {},
     "output_type": "execute_result"
    }
   ],
   "source": [
    "train_df.head(2)"
   ]
  },
  {
   "cell_type": "markdown",
   "id": "b1c553e5-ffbf-49fb-bff9-fdf72d3833f0",
   "metadata": {},
   "source": [
    "# Training the Models"
   ]
  },
  {
   "cell_type": "markdown",
   "id": "f02e9bc0-cd4e-4509-bb6d-037042a910e2",
   "metadata": {},
   "source": [
    "# 1. Bag of Words (BoW)\n",
    "- without including the engineered features, to avoid unnecessary bias due to writing style."
   ]
  },
  {
   "cell_type": "code",
   "execution_count": 4,
   "id": "cac77f78-bba2-4c10-b7d6-27a16b4bccc8",
   "metadata": {},
   "outputs": [],
   "source": [
    "feature = train_df[['preprocessed_text']]\n",
    "output = train_df['target']\n",
    "X_train, X_cv, y_train, y_cv = train_test_split(feature, output)"
   ]
  },
  {
   "cell_type": "code",
   "execution_count": 5,
   "id": "e7fe02fb-ae22-4d46-8fc6-a50db02e5c5c",
   "metadata": {},
   "outputs": [
    {
     "data": {
      "text/html": [
       "<div>\n",
       "<style scoped>\n",
       "    .dataframe tbody tr th:only-of-type {\n",
       "        vertical-align: middle;\n",
       "    }\n",
       "\n",
       "    .dataframe tbody tr th {\n",
       "        vertical-align: top;\n",
       "    }\n",
       "\n",
       "    .dataframe thead th {\n",
       "        text-align: right;\n",
       "    }\n",
       "</style>\n",
       "<table border=\"1\" class=\"dataframe\">\n",
       "  <thead>\n",
       "    <tr style=\"text-align: right;\">\n",
       "      <th></th>\n",
       "      <th>id</th>\n",
       "      <th>comment_text</th>\n",
       "      <th>length</th>\n",
       "      <th>num_exclamations</th>\n",
       "      <th>preprocessed_text</th>\n",
       "    </tr>\n",
       "  </thead>\n",
       "  <tbody>\n",
       "    <tr>\n",
       "      <th>0</th>\n",
       "      <td>7097320</td>\n",
       "      <td>[ Integrity means that you pay your debts.]\\n\\...</td>\n",
       "      <td>84</td>\n",
       "      <td>0</td>\n",
       "      <td>integrity mean pay debt apply president trump</td>\n",
       "    </tr>\n",
       "    <tr>\n",
       "      <th>1</th>\n",
       "      <td>7097321</td>\n",
       "      <td>This is malfeasance by the Administrator and t...</td>\n",
       "      <td>84</td>\n",
       "      <td>1</td>\n",
       "      <td>malfeasance administrator board waste money</td>\n",
       "    </tr>\n",
       "  </tbody>\n",
       "</table>\n",
       "</div>"
      ],
      "text/plain": [
       "        id                                       comment_text  length  \\\n",
       "0  7097320  [ Integrity means that you pay your debts.]\\n\\...      84   \n",
       "1  7097321  This is malfeasance by the Administrator and t...      84   \n",
       "\n",
       "   num_exclamations                                preprocessed_text  \n",
       "0                 0    integrity mean pay debt apply president trump  \n",
       "1                 1      malfeasance administrator board waste money  "
      ]
     },
     "execution_count": 5,
     "metadata": {},
     "output_type": "execute_result"
    }
   ],
   "source": [
    "test_df.head(2)"
   ]
  },
  {
   "cell_type": "code",
   "execution_count": 6,
   "id": "2e75dfb8-005e-4fef-a9cc-f46ff4c4e351",
   "metadata": {},
   "outputs": [],
   "source": [
    "X_test=test_df[['preprocessed_text']]"
   ]
  },
  {
   "cell_type": "code",
   "execution_count": 7,
   "id": "e5ea2046-aa8e-41b3-a51f-9729c29798de",
   "metadata": {},
   "outputs": [],
   "source": [
    "cnt_vec = CountVectorizer(ngram_range=(1,2), max_features=30000)\n",
    "bow_train = cnt_vec.fit_transform(X_train['preprocessed_text'])\n",
    "bow_cv = cnt_vec.transform(X_cv['preprocessed_text'])\n",
    "bow_test = cnt_vec.transform(X_test['preprocessed_text'])"
   ]
  },
  {
   "cell_type": "code",
   "execution_count": 8,
   "id": "ba8e281e-b92f-4ff1-9715-4bc4549d6197",
   "metadata": {},
   "outputs": [
    {
     "data": {
      "text/plain": [
       "scipy.sparse._csr.csr_matrix"
      ]
     },
     "execution_count": 8,
     "metadata": {},
     "output_type": "execute_result"
    }
   ],
   "source": [
    "type(bow_train)"
   ]
  },
  {
   "cell_type": "code",
   "execution_count": 9,
   "id": "85ba0843-505c-42af-9d72-3393ebfe98ce",
   "metadata": {},
   "outputs": [
    {
     "name": "stdout",
     "output_type": "stream",
     "text": [
      "(1353653, 30000)\n",
      "(451218, 30000)\n",
      "(97320, 30000)\n"
     ]
    }
   ],
   "source": [
    "#exploring the shapes\n",
    "print(bow_train.shape)\n",
    "print(bow_cv.shape)\n",
    "print(bow_test.shape)"
   ]
  },
  {
   "cell_type": "markdown",
   "id": "a7503b97-063d-4bdf-b084-cfdbe65f27a7",
   "metadata": {},
   "source": [
    "## 1.1 Stochastic Gradient Descent Regressor ( SGD Regressor)"
   ]
  },
  {
   "cell_type": "code",
   "execution_count": 10,
   "id": "2b2413b3-4503-4438-bc56-92c06bb419d5",
   "metadata": {},
   "outputs": [
    {
     "name": "stdout",
     "output_type": "stream",
     "text": [
      "Fitting 5 folds for each of 16 candidates, totalling 80 fits\n",
      "[CV] END ............................alpha=1e-05, penalty=l1; total time=   5.4s\n",
      "[CV] END ............................alpha=1e-05, penalty=l1; total time=   5.2s\n",
      "[CV] END ............................alpha=1e-05, penalty=l1; total time=   5.1s\n",
      "[CV] END ............................alpha=1e-05, penalty=l1; total time=   4.8s\n",
      "[CV] END ............................alpha=1e-05, penalty=l1; total time=   4.7s\n",
      "[CV] END ............................alpha=1e-05, penalty=l2; total time=   3.0s\n",
      "[CV] END ............................alpha=1e-05, penalty=l2; total time=   2.9s\n",
      "[CV] END ............................alpha=1e-05, penalty=l2; total time=   2.9s\n",
      "[CV] END ............................alpha=1e-05, penalty=l2; total time=   2.9s\n",
      "[CV] END ............................alpha=1e-05, penalty=l2; total time=   2.9s\n",
      "[CV] END ...........................alpha=0.0001, penalty=l1; total time=   4.2s\n",
      "[CV] END ...........................alpha=0.0001, penalty=l1; total time=   4.2s\n",
      "[CV] END ...........................alpha=0.0001, penalty=l1; total time=   4.3s\n",
      "[CV] END ...........................alpha=0.0001, penalty=l1; total time=   4.2s\n",
      "[CV] END ...........................alpha=0.0001, penalty=l1; total time=   4.2s\n",
      "[CV] END ...........................alpha=0.0001, penalty=l2; total time=   2.9s\n",
      "[CV] END ...........................alpha=0.0001, penalty=l2; total time=   3.0s\n",
      "[CV] END ...........................alpha=0.0001, penalty=l2; total time=   2.9s\n",
      "[CV] END ...........................alpha=0.0001, penalty=l2; total time=   2.9s\n",
      "[CV] END ...........................alpha=0.0001, penalty=l2; total time=   2.9s\n",
      "[CV] END ............................alpha=0.001, penalty=l1; total time=   3.2s\n",
      "[CV] END ............................alpha=0.001, penalty=l1; total time=   3.2s\n",
      "[CV] END ............................alpha=0.001, penalty=l1; total time=   3.2s\n",
      "[CV] END ............................alpha=0.001, penalty=l1; total time=   3.2s\n",
      "[CV] END ............................alpha=0.001, penalty=l1; total time=   3.2s\n",
      "[CV] END ............................alpha=0.001, penalty=l2; total time=   2.9s\n",
      "[CV] END ............................alpha=0.001, penalty=l2; total time=   2.9s\n",
      "[CV] END ............................alpha=0.001, penalty=l2; total time=   2.9s\n",
      "[CV] END ............................alpha=0.001, penalty=l2; total time=   2.9s\n",
      "[CV] END ............................alpha=0.001, penalty=l2; total time=   2.9s\n",
      "[CV] END .............................alpha=0.01, penalty=l1; total time=   3.2s\n",
      "[CV] END .............................alpha=0.01, penalty=l1; total time=   3.1s\n",
      "[CV] END .............................alpha=0.01, penalty=l1; total time=   3.1s\n",
      "[CV] END .............................alpha=0.01, penalty=l1; total time=   3.1s\n",
      "[CV] END .............................alpha=0.01, penalty=l1; total time=   3.3s\n",
      "[CV] END .............................alpha=0.01, penalty=l2; total time=   2.6s\n",
      "[CV] END .............................alpha=0.01, penalty=l2; total time=   2.8s\n",
      "[CV] END .............................alpha=0.01, penalty=l2; total time=   2.6s\n",
      "[CV] END .............................alpha=0.01, penalty=l2; total time=   2.6s\n",
      "[CV] END .............................alpha=0.01, penalty=l2; total time=   2.6s\n",
      "[CV] END ..............................alpha=0.1, penalty=l1; total time=   3.1s\n",
      "[CV] END ..............................alpha=0.1, penalty=l1; total time=   3.1s\n",
      "[CV] END ..............................alpha=0.1, penalty=l1; total time=   3.1s\n",
      "[CV] END ..............................alpha=0.1, penalty=l1; total time=   3.1s\n",
      "[CV] END ..............................alpha=0.1, penalty=l1; total time=   3.1s\n",
      "[CV] END ..............................alpha=0.1, penalty=l2; total time=   2.8s\n",
      "[CV] END ..............................alpha=0.1, penalty=l2; total time=   2.7s\n",
      "[CV] END ..............................alpha=0.1, penalty=l2; total time=   2.7s\n",
      "[CV] END ..............................alpha=0.1, penalty=l2; total time=   2.7s\n",
      "[CV] END ..............................alpha=0.1, penalty=l2; total time=   2.7s\n",
      "[CV] END ................................alpha=1, penalty=l1; total time=   3.1s\n",
      "[CV] END ................................alpha=1, penalty=l1; total time=   3.1s\n",
      "[CV] END ................................alpha=1, penalty=l1; total time=   3.1s\n",
      "[CV] END ................................alpha=1, penalty=l1; total time=   3.1s\n",
      "[CV] END ................................alpha=1, penalty=l1; total time=   3.1s\n",
      "[CV] END ................................alpha=1, penalty=l2; total time=   2.8s\n",
      "[CV] END ................................alpha=1, penalty=l2; total time=   2.7s\n",
      "[CV] END ................................alpha=1, penalty=l2; total time=   3.3s\n",
      "[CV] END ................................alpha=1, penalty=l2; total time=   2.8s\n",
      "[CV] END ................................alpha=1, penalty=l2; total time=   2.7s\n",
      "[CV] END ...............................alpha=10, penalty=l1; total time=   3.1s\n",
      "[CV] END ...............................alpha=10, penalty=l1; total time=   3.1s\n",
      "[CV] END ...............................alpha=10, penalty=l1; total time=   3.1s\n",
      "[CV] END ...............................alpha=10, penalty=l1; total time=   3.1s\n",
      "[CV] END ...............................alpha=10, penalty=l1; total time=   3.1s\n",
      "[CV] END ...............................alpha=10, penalty=l2; total time=   2.7s\n",
      "[CV] END ...............................alpha=10, penalty=l2; total time=   2.7s\n",
      "[CV] END ...............................alpha=10, penalty=l2; total time=   2.7s\n",
      "[CV] END ...............................alpha=10, penalty=l2; total time=   2.7s\n",
      "[CV] END ...............................alpha=10, penalty=l2; total time=   2.7s\n",
      "[CV] END ..............................alpha=100, penalty=l1; total time=   3.1s\n",
      "[CV] END ..............................alpha=100, penalty=l1; total time=   3.6s\n",
      "[CV] END ..............................alpha=100, penalty=l1; total time=   3.4s\n",
      "[CV] END ..............................alpha=100, penalty=l1; total time=   3.6s\n",
      "[CV] END ..............................alpha=100, penalty=l1; total time=   4.0s\n",
      "[CV] END ..............................alpha=100, penalty=l2; total time=   3.7s\n",
      "[CV] END ..............................alpha=100, penalty=l2; total time=   3.5s\n",
      "[CV] END ..............................alpha=100, penalty=l2; total time=   4.6s\n",
      "[CV] END ..............................alpha=100, penalty=l2; total time=   5.3s\n",
      "[CV] END ..............................alpha=100, penalty=l2; total time=   6.2s\n",
      "Best Parameters: {'alpha': 0.0001, 'penalty': 'l1'}\n",
      "Mean Squared Error on CV set: 0.024298003603473017\n"
     ]
    }
   ],
   "source": [
    "#Hyperparameters tuning\n",
    "param_grid={ 'alpha' :[0.00001, 0.0001, 0.001, 0.01, 0.1, 1, 10, 100],\n",
    "            'penalty' :['l1', 'l2']}  \n",
    "sgd=SGDRegressor()\n",
    "model=GridSearchCV(estimator=sgd,param_grid=param_grid,scoring='neg_mean_squared_error', cv=5, verbose=2)\n",
    "model.fit(bow_train, y_train)\n",
    "\n",
    "best_params=model.best_params_\n",
    "print('Best Parameters:',best_params)\n",
    "preds_cv=model.predict(bow_cv)\n",
    "cv_error=mean_squared_error(y_cv,preds_cv)\n",
    "print(\"Mean Squared Error on CV set:\", cv_error)"
   ]
  },
  {
   "cell_type": "markdown",
   "id": "090d5f4e-3da0-4e47-80fc-3638b39fc8af",
   "metadata": {},
   "source": [
    "### Features Importances:\n",
    "- Printing the top 20 words which contributed to a comment being toxic"
   ]
  },
  {
   "cell_type": "code",
   "execution_count": 11,
   "id": "303997f7-9024-4664-96ad-c0bb545e4183",
   "metadata": {},
   "outputs": [
    {
     "name": "stdout",
     "output_type": "stream",
     "text": [
      "             weights\n",
      "idiot       0.434650\n",
      "stupid      0.350389\n",
      "stupidity   0.323367\n",
      "moron       0.320754\n",
      "pathetic    0.301164\n",
      "hypocrite   0.283425\n",
      "crap        0.266751\n",
      "dumb        0.266327\n",
      "idiotic     0.264953\n",
      "ass         0.246647\n",
      "ignorant    0.234407\n",
      "clown       0.228581\n",
      "damn        0.215632\n",
      "scum        0.211157\n",
      "ridiculous  0.208342\n",
      "fool        0.206690\n",
      "loser       0.205507\n",
      "jerk        0.198379\n",
      "silly       0.197860\n",
      "shit        0.184310\n"
     ]
    }
   ],
   "source": [
    "#referred documentation of CountVectorizer\n",
    "feat_names=cnt_vec.get_feature_names_out()\n",
    "best_model=model.best_estimator_\n",
    "weights=best_model.coef_\n",
    "#creating a df to view weights of top 20 features\n",
    "df = pd.DataFrame(data=weights, columns=['weights'], index=feat_names)\n",
    "top_features = df.sort_values(\"weights\", ascending=False).head(20)\n",
    "print(top_features)"
   ]
  },
  {
   "cell_type": "markdown",
   "id": "b9ba80f1-f502-4e7d-8c17-8aa7336785c1",
   "metadata": {},
   "source": [
    "## 1.2 Decision Tree Regressor"
   ]
  },
  {
   "cell_type": "code",
   "execution_count": 12,
   "id": "3cabba10-6d30-4bd7-b210-7cf839705aa9",
   "metadata": {},
   "outputs": [
    {
     "name": "stdout",
     "output_type": "stream",
     "text": [
      "Fitting 5 folds for each of 9 candidates, totalling 45 fits\n",
      "[CV] END ...................max_depth=3, min_samples_leaf=10; total time=  11.2s\n",
      "[CV] END ...................max_depth=3, min_samples_leaf=10; total time=  11.2s\n",
      "[CV] END ...................max_depth=3, min_samples_leaf=10; total time=  11.1s\n",
      "[CV] END ...................max_depth=3, min_samples_leaf=10; total time=  11.1s\n",
      "[CV] END ...................max_depth=3, min_samples_leaf=10; total time=  11.1s\n",
      "[CV] END ..................max_depth=3, min_samples_leaf=100; total time=  11.0s\n",
      "[CV] END ..................max_depth=3, min_samples_leaf=100; total time=  11.1s\n",
      "[CV] END ..................max_depth=3, min_samples_leaf=100; total time=  11.2s\n",
      "[CV] END ..................max_depth=3, min_samples_leaf=100; total time=  11.2s\n",
      "[CV] END ..................max_depth=3, min_samples_leaf=100; total time=  11.1s\n",
      "[CV] END .................max_depth=3, min_samples_leaf=1000; total time=  10.4s\n",
      "[CV] END .................max_depth=3, min_samples_leaf=1000; total time=  10.4s\n",
      "[CV] END .................max_depth=3, min_samples_leaf=1000; total time=  10.7s\n",
      "[CV] END .................max_depth=3, min_samples_leaf=1000; total time=  10.4s\n",
      "[CV] END .................max_depth=3, min_samples_leaf=1000; total time=  10.4s\n",
      "[CV] END ...................max_depth=5, min_samples_leaf=10; total time=  19.7s\n",
      "[CV] END ...................max_depth=5, min_samples_leaf=10; total time=  19.7s\n",
      "[CV] END ...................max_depth=5, min_samples_leaf=10; total time=  19.8s\n",
      "[CV] END ...................max_depth=5, min_samples_leaf=10; total time=  22.6s\n",
      "[CV] END ...................max_depth=5, min_samples_leaf=10; total time=  19.9s\n",
      "[CV] END ..................max_depth=5, min_samples_leaf=100; total time=  19.5s\n",
      "[CV] END ..................max_depth=5, min_samples_leaf=100; total time=  19.5s\n",
      "[CV] END ..................max_depth=5, min_samples_leaf=100; total time=  20.0s\n",
      "[CV] END ..................max_depth=5, min_samples_leaf=100; total time=  19.4s\n",
      "[CV] END ..................max_depth=5, min_samples_leaf=100; total time=  24.6s\n",
      "[CV] END .................max_depth=5, min_samples_leaf=1000; total time=  17.3s\n",
      "[CV] END .................max_depth=5, min_samples_leaf=1000; total time=  17.4s\n",
      "[CV] END .................max_depth=5, min_samples_leaf=1000; total time=  17.4s\n",
      "[CV] END .................max_depth=5, min_samples_leaf=1000; total time=  17.9s\n",
      "[CV] END .................max_depth=5, min_samples_leaf=1000; total time=  17.5s\n",
      "[CV] END ...................max_depth=7, min_samples_leaf=10; total time=  31.1s\n",
      "[CV] END ...................max_depth=7, min_samples_leaf=10; total time=  32.2s\n",
      "[CV] END ...................max_depth=7, min_samples_leaf=10; total time=  30.8s\n",
      "[CV] END ...................max_depth=7, min_samples_leaf=10; total time=  30.5s\n",
      "[CV] END ...................max_depth=7, min_samples_leaf=10; total time=  31.6s\n",
      "[CV] END ..................max_depth=7, min_samples_leaf=100; total time=  37.0s\n",
      "[CV] END ..................max_depth=7, min_samples_leaf=100; total time=  32.7s\n",
      "[CV] END ..................max_depth=7, min_samples_leaf=100; total time=  33.3s\n",
      "[CV] END ..................max_depth=7, min_samples_leaf=100; total time=  31.8s\n",
      "[CV] END ..................max_depth=7, min_samples_leaf=100; total time=  31.4s\n",
      "[CV] END .................max_depth=7, min_samples_leaf=1000; total time=  26.5s\n",
      "[CV] END .................max_depth=7, min_samples_leaf=1000; total time=  28.2s\n",
      "[CV] END .................max_depth=7, min_samples_leaf=1000; total time=  27.6s\n",
      "[CV] END .................max_depth=7, min_samples_leaf=1000; total time=  25.4s\n",
      "[CV] END .................max_depth=7, min_samples_leaf=1000; total time=  21.4s\n",
      "Best Parameters: {'max_depth': 7, 'min_samples_leaf': 100}\n",
      "Mean Squared Error on CV set: 0.031656608167548304\n"
     ]
    }
   ],
   "source": [
    "param_grid = {'max_depth': [3, 5, 7],\n",
    "            'min_samples_leaf': [10, 100, 1000]}\n",
    "\n",
    "dt=DecisionTreeRegressor()\n",
    "model=GridSearchCV(estimator=dt,param_grid=param_grid,scoring='neg_mean_squared_error',cv=5,verbose=2) \n",
    "#n_jobs=-1 means use all available cores, n_jobs=1 means use only 1\n",
    "model.fit(bow_train,y_train)\n",
    "\n",
    "\n",
    "best_params=model.best_params_\n",
    "print('Best Parameters:',best_params)\n",
    "preds_cv=model.predict(bow_cv)\n",
    "cv_error=mean_squared_error(y_cv,preds_cv)\n",
    "print(\"Mean Squared Error on CV set:\", cv_error)"
   ]
  },
  {
   "cell_type": "markdown",
   "id": "fbcb984e-fad9-4791-9234-7216a26a7548",
   "metadata": {},
   "source": [
    "### Feature Importances:\n",
    "- Printing top 20 words which contributed to the comments being toxic"
   ]
  },
  {
   "cell_type": "code",
   "execution_count": 13,
   "id": "f94b2fe2-a175-4334-b5ec-cde6823fb3f0",
   "metadata": {},
   "outputs": [
    {
     "name": "stdout",
     "output_type": "stream",
     "text": [
      "            weights\n",
      "stupid     0.354878\n",
      "idiot      0.257678\n",
      "ignorant   0.086890\n",
      "pathetic   0.074313\n",
      "dumb       0.072259\n",
      "fool       0.069534\n",
      "stupidity  0.065688\n",
      "year       0.002779\n",
      "don fool   0.002214\n",
      "people     0.002021\n",
      "don        0.001853\n",
      "good       0.001797\n",
      "thing      0.001514\n",
      "state      0.001183\n",
      "time       0.000840\n",
      "way        0.000754\n",
      "go         0.000627\n",
      "need       0.000608\n",
      "issue      0.000584\n",
      "public     0.000438\n"
     ]
    }
   ],
   "source": [
    "best_model=model.best_estimator_\n",
    "weights=best_model.feature_importances_\n",
    "df=pd.DataFrame(data=weights,columns=['weights'], index=feat_names)\n",
    "top_features=df.sort_values('weights',ascending=False).head(20)\n",
    "print(top_features)"
   ]
  },
  {
   "cell_type": "markdown",
   "id": "f7c803d4-3ad1-413f-8572-31289916c20d",
   "metadata": {},
   "source": [
    "# 2. TF-IDF Vectorizer"
   ]
  },
  {
   "cell_type": "code",
   "execution_count": 18,
   "id": "9be28105-b0dc-44ac-a926-2a1cfd219f4b",
   "metadata": {},
   "outputs": [],
   "source": [
    "tfidf_vec = TfidfVectorizer(ngram_range=(1,2), max_features=30000)\n",
    "tfidf_train = tfidf_vec.fit_transform(X_train['preprocessed_text'])\n",
    "tfidf_cv = tfidf_vec.transform(X_cv['preprocessed_text'])\n",
    "tfidf_test = tfidf_vec.transform(X_test['preprocessed_text'])"
   ]
  },
  {
   "cell_type": "code",
   "execution_count": 19,
   "id": "12aefa9a-dc79-48b5-93a3-ccd1dc095614",
   "metadata": {},
   "outputs": [
    {
     "name": "stdout",
     "output_type": "stream",
     "text": [
      "(1353653, 30000)\n",
      "(451218, 30000)\n",
      "(97320, 30000)\n"
     ]
    }
   ],
   "source": [
    "print(tfidf_train.shape)\n",
    "print(tfidf_cv.shape)\n",
    "print(tfidf_test.shape)"
   ]
  },
  {
   "cell_type": "code",
   "execution_count": 20,
   "id": "e8842b0b-2a75-494d-ba98-c3880bbb353d",
   "metadata": {},
   "outputs": [
    {
     "data": {
      "text/plain": [
       "scipy.sparse._csr.csr_matrix"
      ]
     },
     "execution_count": 20,
     "metadata": {},
     "output_type": "execute_result"
    }
   ],
   "source": [
    "type(tfidf_train)"
   ]
  },
  {
   "cell_type": "markdown",
   "id": "ad4afc11-e3a2-4f40-9b8c-907af2b22804",
   "metadata": {},
   "source": [
    "## 2.1 Stochastic Gradient Descent Regressor (SGD Regressor)"
   ]
  },
  {
   "cell_type": "code",
   "execution_count": 21,
   "id": "0075a2b4-3fe1-43e7-8d2c-b3463678fa94",
   "metadata": {},
   "outputs": [
    {
     "name": "stdout",
     "output_type": "stream",
     "text": [
      "Fitting 5 folds for each of 16 candidates, totalling 80 fits\n",
      "[CV] END ............................alpha=1e-05, penalty=l1; total time=   4.1s\n",
      "[CV] END ............................alpha=1e-05, penalty=l1; total time=   3.8s\n",
      "[CV] END ............................alpha=1e-05, penalty=l1; total time=   4.8s\n",
      "[CV] END ............................alpha=1e-05, penalty=l1; total time=   4.4s\n",
      "[CV] END ............................alpha=1e-05, penalty=l1; total time=   4.2s\n",
      "[CV] END ............................alpha=1e-05, penalty=l2; total time=   2.2s\n",
      "[CV] END ............................alpha=1e-05, penalty=l2; total time=   2.2s\n",
      "[CV] END ............................alpha=1e-05, penalty=l2; total time=   2.2s\n",
      "[CV] END ............................alpha=1e-05, penalty=l2; total time=   2.2s\n",
      "[CV] END ............................alpha=1e-05, penalty=l2; total time=   2.2s\n",
      "[CV] END ...........................alpha=0.0001, penalty=l1; total time=   3.0s\n",
      "[CV] END ...........................alpha=0.0001, penalty=l1; total time=   2.9s\n",
      "[CV] END ...........................alpha=0.0001, penalty=l1; total time=   2.9s\n",
      "[CV] END ...........................alpha=0.0001, penalty=l1; total time=   3.0s\n",
      "[CV] END ...........................alpha=0.0001, penalty=l1; total time=   3.3s\n",
      "[CV] END ...........................alpha=0.0001, penalty=l2; total time=   2.3s\n",
      "[CV] END ...........................alpha=0.0001, penalty=l2; total time=   2.4s\n",
      "[CV] END ...........................alpha=0.0001, penalty=l2; total time=   2.2s\n",
      "[CV] END ...........................alpha=0.0001, penalty=l2; total time=   2.1s\n",
      "[CV] END ...........................alpha=0.0001, penalty=l2; total time=   2.1s\n",
      "[CV] END ............................alpha=0.001, penalty=l1; total time=   2.3s\n",
      "[CV] END ............................alpha=0.001, penalty=l1; total time=   2.3s\n",
      "[CV] END ............................alpha=0.001, penalty=l1; total time=   2.3s\n",
      "[CV] END ............................alpha=0.001, penalty=l1; total time=   2.4s\n",
      "[CV] END ............................alpha=0.001, penalty=l1; total time=   2.4s\n",
      "[CV] END ............................alpha=0.001, penalty=l2; total time=   2.2s\n",
      "[CV] END ............................alpha=0.001, penalty=l2; total time=   2.1s\n",
      "[CV] END ............................alpha=0.001, penalty=l2; total time=   2.1s\n",
      "[CV] END ............................alpha=0.001, penalty=l2; total time=   2.1s\n",
      "[CV] END ............................alpha=0.001, penalty=l2; total time=   2.1s\n",
      "[CV] END .............................alpha=0.01, penalty=l1; total time=   2.4s\n",
      "[CV] END .............................alpha=0.01, penalty=l1; total time=   2.4s\n",
      "[CV] END .............................alpha=0.01, penalty=l1; total time=   2.8s\n",
      "[CV] END .............................alpha=0.01, penalty=l1; total time=   2.3s\n",
      "[CV] END .............................alpha=0.01, penalty=l1; total time=   2.4s\n",
      "[CV] END .............................alpha=0.01, penalty=l2; total time=   1.9s\n",
      "[CV] END .............................alpha=0.01, penalty=l2; total time=   1.8s\n",
      "[CV] END .............................alpha=0.01, penalty=l2; total time=   1.8s\n",
      "[CV] END .............................alpha=0.01, penalty=l2; total time=   1.8s\n",
      "[CV] END .............................alpha=0.01, penalty=l2; total time=   1.8s\n",
      "[CV] END ..............................alpha=0.1, penalty=l1; total time=   2.4s\n",
      "[CV] END ..............................alpha=0.1, penalty=l1; total time=   2.4s\n",
      "[CV] END ..............................alpha=0.1, penalty=l1; total time=   2.3s\n",
      "[CV] END ..............................alpha=0.1, penalty=l1; total time=   2.4s\n",
      "[CV] END ..............................alpha=0.1, penalty=l1; total time=   2.4s\n",
      "[CV] END ..............................alpha=0.1, penalty=l2; total time=   2.0s\n",
      "[CV] END ..............................alpha=0.1, penalty=l2; total time=   1.9s\n",
      "[CV] END ..............................alpha=0.1, penalty=l2; total time=   1.9s\n",
      "[CV] END ..............................alpha=0.1, penalty=l2; total time=   1.9s\n",
      "[CV] END ..............................alpha=0.1, penalty=l2; total time=   2.0s\n",
      "[CV] END ................................alpha=1, penalty=l1; total time=   2.3s\n",
      "[CV] END ................................alpha=1, penalty=l1; total time=   2.3s\n",
      "[CV] END ................................alpha=1, penalty=l1; total time=   2.3s\n",
      "[CV] END ................................alpha=1, penalty=l1; total time=   2.3s\n",
      "[CV] END ................................alpha=1, penalty=l1; total time=   2.5s\n",
      "[CV] END ................................alpha=1, penalty=l2; total time=   2.1s\n",
      "[CV] END ................................alpha=1, penalty=l2; total time=   2.0s\n",
      "[CV] END ................................alpha=1, penalty=l2; total time=   2.0s\n",
      "[CV] END ................................alpha=1, penalty=l2; total time=   1.9s\n",
      "[CV] END ................................alpha=1, penalty=l2; total time=   2.0s\n",
      "[CV] END ...............................alpha=10, penalty=l1; total time=   2.3s\n",
      "[CV] END ...............................alpha=10, penalty=l1; total time=   2.3s\n",
      "[CV] END ...............................alpha=10, penalty=l1; total time=   2.4s\n",
      "[CV] END ...............................alpha=10, penalty=l1; total time=   2.3s\n",
      "[CV] END ...............................alpha=10, penalty=l1; total time=   2.4s\n",
      "[CV] END ...............................alpha=10, penalty=l2; total time=   2.1s\n",
      "[CV] END ...............................alpha=10, penalty=l2; total time=   2.0s\n",
      "[CV] END ...............................alpha=10, penalty=l2; total time=   1.9s\n",
      "[CV] END ...............................alpha=10, penalty=l2; total time=   1.9s\n",
      "[CV] END ...............................alpha=10, penalty=l2; total time=   2.0s\n",
      "[CV] END ..............................alpha=100, penalty=l1; total time=   2.4s\n",
      "[CV] END ..............................alpha=100, penalty=l1; total time=   2.4s\n",
      "[CV] END ..............................alpha=100, penalty=l1; total time=   2.4s\n",
      "[CV] END ..............................alpha=100, penalty=l1; total time=   2.7s\n",
      "[CV] END ..............................alpha=100, penalty=l1; total time=   2.5s\n",
      "[CV] END ..............................alpha=100, penalty=l2; total time=   2.2s\n",
      "[CV] END ..............................alpha=100, penalty=l2; total time=   2.0s\n",
      "[CV] END ..............................alpha=100, penalty=l2; total time=   2.1s\n",
      "[CV] END ..............................alpha=100, penalty=l2; total time=   2.2s\n",
      "[CV] END ..............................alpha=100, penalty=l2; total time=   2.1s\n",
      "Best Parameters: {'alpha': 1e-05, 'penalty': 'l2'}\n",
      "Mean Squared Error on CV set: 0.02415963883069067\n"
     ]
    }
   ],
   "source": [
    "#Hyperparameters Tuning\n",
    "param_grid={ 'alpha' :[0.00001, 0.0001, 0.001, 0.01, 0.1, 1, 10, 100],\n",
    "            'penalty' :['l1', 'l2']}  \n",
    "sgd=SGDRegressor()\n",
    "model=GridSearchCV(estimator=sgd,param_grid=param_grid,scoring='neg_mean_squared_error', cv=5, verbose=2)\n",
    "model.fit(tfidf_train,y_train)\n",
    "\n",
    "best_params=model.best_params_\n",
    "print('Best Parameters:',best_params)\n",
    "preds_cv=model.predict(tfidf_cv)\n",
    "cv_error=mean_squared_error(y_cv,preds_cv)\n",
    "print(\"Mean Squared Error on CV set:\", cv_error)"
   ]
  },
  {
   "cell_type": "markdown",
   "id": "f3470714-2d36-46f9-be7d-3272e2dd5167",
   "metadata": {},
   "source": [
    "### Feature Importances:\n",
    "- printing the top 20 words which contributed to the comments being toxic."
   ]
  },
  {
   "cell_type": "code",
   "execution_count": 22,
   "id": "d105bac1-c58e-4d0a-8a97-a83f75d4825d",
   "metadata": {},
   "outputs": [
    {
     "name": "stdout",
     "output_type": "stream",
     "text": [
      "             weights\n",
      "stupid      1.436811\n",
      "idiot       1.194973\n",
      "ignorant    0.676550\n",
      "fool        0.671998\n",
      "dumb        0.669586\n",
      "pathetic    0.599235\n",
      "loser       0.570328\n",
      "ridiculous  0.552996\n",
      "moron       0.538684\n",
      "stupidity   0.535496\n",
      "liar        0.523286\n",
      "crap        0.520190\n",
      "racist      0.491118\n",
      "white       0.481302\n",
      "troll       0.459532\n",
      "clown       0.445121\n",
      "kill        0.442490\n",
      "silly       0.431189\n",
      "black       0.429432\n",
      "damn        0.428936\n"
     ]
    }
   ],
   "source": [
    "best_model=model.best_estimator_\n",
    "weights=best_model.coef_\n",
    "df=pd.DataFrame(data=weights,columns=['weights'], index=feat_names)\n",
    "top_features=df.sort_values('weights',ascending=False).head(20)\n",
    "print(top_features)"
   ]
  },
  {
   "cell_type": "markdown",
   "id": "47151384-54d6-469f-8aa6-7f7082b8a9c7",
   "metadata": {},
   "source": [
    "## 2.2 Decision Tree Regressor"
   ]
  },
  {
   "cell_type": "code",
   "execution_count": 23,
   "id": "f298f89a-f93f-4197-a059-4de13ba3c504",
   "metadata": {},
   "outputs": [
    {
     "name": "stdout",
     "output_type": "stream",
     "text": [
      "Fitting 5 folds for each of 9 candidates, totalling 45 fits\n",
      "[CV] END ...................max_depth=3, min_samples_leaf=10; total time=  19.7s\n",
      "[CV] END ...................max_depth=3, min_samples_leaf=10; total time=  18.5s\n",
      "[CV] END ...................max_depth=3, min_samples_leaf=10; total time=  18.6s\n",
      "[CV] END ...................max_depth=3, min_samples_leaf=10; total time=  17.1s\n",
      "[CV] END ...................max_depth=3, min_samples_leaf=10; total time=  16.0s\n",
      "[CV] END ..................max_depth=3, min_samples_leaf=100; total time=  17.0s\n",
      "[CV] END ..................max_depth=3, min_samples_leaf=100; total time=  16.0s\n",
      "[CV] END ..................max_depth=3, min_samples_leaf=100; total time=  15.6s\n",
      "[CV] END ..................max_depth=3, min_samples_leaf=100; total time=  15.4s\n",
      "[CV] END ..................max_depth=3, min_samples_leaf=100; total time=  15.7s\n",
      "[CV] END .................max_depth=3, min_samples_leaf=1000; total time=  14.9s\n",
      "[CV] END .................max_depth=3, min_samples_leaf=1000; total time=  14.9s\n",
      "[CV] END .................max_depth=3, min_samples_leaf=1000; total time=  15.7s\n",
      "[CV] END .................max_depth=3, min_samples_leaf=1000; total time=  15.5s\n",
      "[CV] END .................max_depth=3, min_samples_leaf=1000; total time=  16.3s\n",
      "[CV] END ...................max_depth=5, min_samples_leaf=10; total time=  32.4s\n",
      "[CV] END ...................max_depth=5, min_samples_leaf=10; total time=  33.3s\n",
      "[CV] END ...................max_depth=5, min_samples_leaf=10; total time=  33.4s\n",
      "[CV] END ...................max_depth=5, min_samples_leaf=10; total time=  33.1s\n",
      "[CV] END ...................max_depth=5, min_samples_leaf=10; total time=  27.0s\n",
      "[CV] END ..................max_depth=5, min_samples_leaf=100; total time=  27.4s\n",
      "[CV] END ..................max_depth=5, min_samples_leaf=100; total time=  26.6s\n",
      "[CV] END ..................max_depth=5, min_samples_leaf=100; total time=  26.9s\n",
      "[CV] END ..................max_depth=5, min_samples_leaf=100; total time=  26.7s\n",
      "[CV] END ..................max_depth=5, min_samples_leaf=100; total time=  30.2s\n",
      "[CV] END .................max_depth=5, min_samples_leaf=1000; total time=  25.7s\n",
      "[CV] END .................max_depth=5, min_samples_leaf=1000; total time=  26.0s\n",
      "[CV] END .................max_depth=5, min_samples_leaf=1000; total time=  25.6s\n",
      "[CV] END .................max_depth=5, min_samples_leaf=1000; total time=  25.5s\n",
      "[CV] END .................max_depth=5, min_samples_leaf=1000; total time=  25.5s\n",
      "[CV] END ...................max_depth=7, min_samples_leaf=10; total time=  42.8s\n",
      "[CV] END ...................max_depth=7, min_samples_leaf=10; total time=  42.8s\n",
      "[CV] END ...................max_depth=7, min_samples_leaf=10; total time=  43.6s\n",
      "[CV] END ...................max_depth=7, min_samples_leaf=10; total time=  43.4s\n",
      "[CV] END ...................max_depth=7, min_samples_leaf=10; total time=  43.1s\n",
      "[CV] END ..................max_depth=7, min_samples_leaf=100; total time=  42.4s\n",
      "[CV] END ..................max_depth=7, min_samples_leaf=100; total time=  42.7s\n",
      "[CV] END ..................max_depth=7, min_samples_leaf=100; total time=  42.7s\n",
      "[CV] END ..................max_depth=7, min_samples_leaf=100; total time=  42.5s\n",
      "[CV] END ..................max_depth=7, min_samples_leaf=100; total time=  44.1s\n",
      "[CV] END .................max_depth=7, min_samples_leaf=1000; total time=  34.6s\n",
      "[CV] END .................max_depth=7, min_samples_leaf=1000; total time=  35.4s\n",
      "[CV] END .................max_depth=7, min_samples_leaf=1000; total time=  38.7s\n",
      "[CV] END .................max_depth=7, min_samples_leaf=1000; total time=  36.4s\n",
      "[CV] END .................max_depth=7, min_samples_leaf=1000; total time=  35.1s\n",
      "Best Parameters: {'max_depth': 7, 'min_samples_leaf': 10}\n",
      "Mean Squared Error on CV set: 0.03138149202136317\n"
     ]
    }
   ],
   "source": [
    "param_grid = {'max_depth': [3, 5, 7],\n",
    "            'min_samples_leaf': [10, 100, 1000]}\n",
    "\n",
    "dt=DecisionTreeRegressor()\n",
    "model=GridSearchCV(estimator=dt,param_grid=param_grid,scoring='neg_mean_squared_error',cv=5,verbose=2) \n",
    "#n_jobs=-1 means use all available cores, n_jobs=1 means use only 1, didnt use it since the system crashed for some reason on using this.\n",
    "model.fit(tfidf_train,y_train)\n",
    "\n",
    "best_params=model.best_params_\n",
    "print('Best Parameters:',best_params)\n",
    "preds_cv=model.predict(tfidf_cv)\n",
    "cv_error=mean_squared_error(y_cv,preds_cv)\n",
    "print(\"Mean Squared Error on CV set:\", cv_error)"
   ]
  },
  {
   "cell_type": "markdown",
   "id": "913af5e3-df33-4937-823c-7384c013e78f",
   "metadata": {},
   "source": [
    "### Feature Importances:\n",
    "- printing the top 20 words which contributed to the comments being toxic."
   ]
  },
  {
   "cell_type": "code",
   "execution_count": null,
   "id": "c59c5504-ba50-488f-b1f8-46b7ba256099",
   "metadata": {},
   "outputs": [],
   "source": [
    "best_model=model.best_estimator_\n",
    "weights=best_model.feature_importances_\n",
    "df=pd.DataFrame(data=weights,columns=['weights'], index=feat_names)\n",
    "top_features=df.sort_values('weights',ascending=False).head(20)\n",
    "print(top_features)"
   ]
  },
  {
   "cell_type": "markdown",
   "id": "37c81bf2-abf9-4453-a59e-9ee1c7dc61f6",
   "metadata": {},
   "source": [
    "# Outcomes on ML models:\n",
    "##### BoW-SGDRegressor\n",
    "- Best Parameters: Learning Rate: 0.0001, Regularization : L1\n",
    "- Mean Squared Error on CV set: 0.02429800360347301"
   ]
  },
  {
   "cell_type": "markdown",
   "id": "3fdf1ae6-2141-4144-a67b-12cdb233fd11",
   "metadata": {},
   "source": [
    "##### BoW-Decision Tree Regressor\n",
    "- Best Parameters: Max depth: 7, Min samples leaf: 100\r",
    "- \n",
    "Mean Squared Error on CV set: 0.0316566081675483047"
   ]
  },
  {
   "cell_type": "markdown",
   "id": "773d809e-130d-49be-adbf-912fc502c802",
   "metadata": {},
   "source": [
    "##### BoW-SGDRegressor\n",
    "- Best Parameters: Learning Rate: 0.00001, Regularization : L2\n",
    "- Mean Squared Error on CV set: 0.02415963883069067"
   ]
  },
  {
   "cell_type": "markdown",
   "id": "29c296a2-4f3a-4203-beaa-1cdbf0909676",
   "metadata": {},
   "source": [
    "##### BoW-Decision Tree Regressor\n",
    "- Best Parameters: Max depth: 7, Min samples leaf: 10\n",
    "- Mean Squared Error on CV set: 0.03138149202136317"
   ]
  },
  {
   "cell_type": "code",
   "execution_count": 25,
   "id": "2a9eb1ef-17f3-4d48-86ae-51f88449d8f3",
   "metadata": {},
   "outputs": [
    {
     "data": {
      "image/png": "[encoded data removed]",
      "text/plain": [
       "<Figure size 640x480 with 1 Axes>"
      ]
     },
     "metadata": {},
     "output_type": "display_data"
    }
   ],
   "source": [
    "cv_errors = {\n",
    "    'BoW-SGDRegressor': 0.02429,\n",
    "    'BoW-DecisionTreeRegressor': 0.03166,\n",
    "    'TFIDF-SGDRegressor': 0.02416,\n",
    "    'TFIDF-DecisionTreeRegressor': 0.03138\n",
    "}\n",
    "\n",
    "fig, ax = plt.subplots()\n",
    "\n",
    "models = list(cv_errors.keys())\n",
    "errors = list(cv_errors.values())\n",
    "\n",
    "ax.bar(models, errors, color=['blue', 'green', 'red', 'purple'])\n",
    "ax.set_title('CV Errors of Different Models')\n",
    "ax.set_xlabel('Models')\n",
    "ax.set_ylabel('CV Error')\n",
    "\n",
    "plt.xticks(rotation=45)\n",
    "plt.show()"
   ]
  },
  {
   "cell_type": "code",
   "execution_count": null,
   "id": "8714e20d-bc4b-4e21-bf67-6c26e798c519",
   "metadata": {},
   "outputs": [],
   "source": []
  }
 ],
 "metadata": {
  "kernelspec": {
   "display_name": "Python 3 (ipykernel)",
   "language": "python",
   "name": "python3"
  },
  "language_info": {
   "codemirror_mode": {
    "name": "ipython",
    "version": 3
   },
   "file_extension": ".py",
   "mimetype": "text/x-python",
   "name": "python",
   "nbconvert_exporter": "python",
   "pygments_lexer": "ipython3",
   "version": "3.11.7"
  }
 },
 "nbformat": 4,
 "nbformat_minor": 5
}
